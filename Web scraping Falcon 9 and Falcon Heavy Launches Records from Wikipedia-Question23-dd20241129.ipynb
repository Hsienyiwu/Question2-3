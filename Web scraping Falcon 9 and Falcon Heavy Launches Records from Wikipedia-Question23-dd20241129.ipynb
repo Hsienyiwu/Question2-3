{
 "cells": [
  {
   "cell_type": "code",
   "execution_count": 1,
   "id": "50ae4157-768b-4450-b26e-640e86fd771f",
   "metadata": {
    "tags": []
   },
   "outputs": [
    {
     "name": "stdout",
     "output_type": "stream",
     "text": [
      "Requirement already satisfied: beautifulsoup4 in /home/jupyterlab/conda/envs/python/lib/python3.7/site-packages (4.11.1)\n",
      "Requirement already satisfied: soupsieve>1.2 in /home/jupyterlab/conda/envs/python/lib/python3.7/site-packages (from beautifulsoup4) (2.3.2.post1)\n",
      "Requirement already satisfied: requests in /home/jupyterlab/conda/envs/python/lib/python3.7/site-packages (2.29.0)\n",
      "Requirement already satisfied: charset-normalizer<4,>=2 in /home/jupyterlab/conda/envs/python/lib/python3.7/site-packages (from requests) (3.1.0)\n",
      "Requirement already satisfied: idna<4,>=2.5 in /home/jupyterlab/conda/envs/python/lib/python3.7/site-packages (from requests) (3.4)\n",
      "Requirement already satisfied: urllib3<1.27,>=1.21.1 in /home/jupyterlab/conda/envs/python/lib/python3.7/site-packages (from requests) (1.26.15)\n",
      "Requirement already satisfied: certifi>=2017.4.17 in /home/jupyterlab/conda/envs/python/lib/python3.7/site-packages (from requests) (2023.5.7)\n"
     ]
    }
   ],
   "source": [
    "!pip3 install beautifulsoup4\n",
    "!pip3 install requests"
   ]
  },
  {
   "cell_type": "code",
   "execution_count": 2,
   "id": "bcc8723c-d53d-4307-897d-c3b3aafce580",
   "metadata": {
    "tags": []
   },
   "outputs": [],
   "source": [
    "import sys\n",
    "\n",
    "import requests\n",
    "from bs4 import BeautifulSoup\n",
    "import re\n",
    "import unicodedata\n",
    "import pandas as pd"
   ]
  },
  {
   "cell_type": "code",
   "execution_count": 3,
   "id": "f95f63fd-e12b-4a59-86de-d64407d5a525",
   "metadata": {
    "tags": []
   },
   "outputs": [],
   "source": [
    "def date_time(table_cells):\n",
    "    \"\"\"\n",
    "    This function returns the data and time from the HTML  table cell\n",
    "    Input: the  element of a table data cell extracts extra row\n",
    "    \"\"\"\n",
    "    return [data_time.strip() for data_time in list(table_cells.strings)][0:2]\n",
    "\n",
    "def booster_version(table_cells):\n",
    "    \"\"\"\n",
    "    This function returns the booster version from the HTML  table cell \n",
    "    Input: the  element of a table data cell extracts extra row\n",
    "    \"\"\"\n",
    "    out=''.join([booster_version for i,booster_version in enumerate( table_cells.strings) if i%2==0][0:-1])\n",
    "    return out\n",
    "\n",
    "def landing_status(table_cells):\n",
    "    \"\"\"\n",
    "    This function returns the landing status from the HTML table cell \n",
    "    Input: the  element of a table data cell extracts extra row\n",
    "    \"\"\"\n",
    "    out=[i for i in table_cells.strings][0]\n",
    "    return out\n",
    "\n",
    "\n",
    "def get_mass(table_cells):\n",
    "    mass=unicodedata.normalize(\"NFKD\", table_cells.text).strip()\n",
    "    if mass:\n",
    "        mass.find(\"kg\")\n",
    "        new_mass=mass[0:mass.find(\"kg\")+2]\n",
    "    else:\n",
    "        new_mass=0\n",
    "    return new_mass\n",
    "\n",
    "\n",
    "def extract_column_from_header(row):\n",
    "    \"\"\"\n",
    "    This function returns the landing status from the HTML table cell \n",
    "    Input: the  element of a table data cell extracts extra row\n",
    "    \"\"\"\n",
    "    if (row.br):\n",
    "        row.br.extract()\n",
    "    if row.a:\n",
    "        row.a.extract()\n",
    "    if row.sup:\n",
    "        row.sup.extract()\n",
    "        \n",
    "    colunm_name = ' '.join(row.contents)\n",
    "    \n",
    "    # Filter the digit and empty names\n",
    "    if not(colunm_name.strip().isdigit()):\n",
    "        colunm_name = colunm_name.strip()\n",
    "        return colunm_name    \n"
   ]
  },
  {
   "cell_type": "code",
   "execution_count": 4,
   "id": "ea53cde7-94bf-45b0-8119-4ab50101e282",
   "metadata": {
    "tags": []
   },
   "outputs": [],
   "source": [
    "static_url = \"https://en.wikipedia.org/w/index.php?title=List_of_Falcon_9_and_Falcon_Heavy_launches&oldid=1027686922\""
   ]
  },
  {
   "cell_type": "markdown",
   "id": "26926bcd-21f2-42d7-afc7-585e5702d8bf",
   "metadata": {},
   "source": [
    "task1"
   ]
  },
  {
   "cell_type": "code",
   "execution_count": 5,
   "id": "001911c7-3e0c-487b-8618-fd4927a415b3",
   "metadata": {
    "tags": []
   },
   "outputs": [
    {
     "name": "stdout",
     "output_type": "stream",
     "text": [
      "請求成功!\n",
      "<!DOCTYPE html>\n",
      "<html class=\"client-nojs vector-feature-language-in-header-enabled vector-feature-language-in-main-page-header-disabled vector-feature-sticky-header-disabled vector-feature-page-tools-pinned-disabled vector-feature-toc-pinned-clientpref-1 vector-feature-main-menu-pinned-disabled vector-feature-limited-width-clientpref-1 vector-feature-limited-width-content-enabled vector-feature-custom-font-size-clientpref-1 vector-feature-appearance-pinned-clientpref-1 vector-feature-night-mode-\n"
     ]
    }
   ],
   "source": [
    "#Send an HTTP GET request using the requests.get() method\n",
    "# 使用 requests.get() 方法發送 HTTP GET 請求\n",
    "response = requests.get(static_url)\n",
    "#Check the response status code to ensure the request was successful\n",
    "# 檢查回應狀態碼以確保請求成功\n",
    "if response.status_code == 200:\n",
    "    print(\"請求成功!\")\n",
    "    # Get page content    \n",
    "    # 獲取頁面內容\n",
    "    html_content = response.text\n",
    "    print(html_content[:500])  # 打印前500個字符作為示例 # Print the first 500 characters as an example\n",
    "else:\n",
    "    print(\"請求失敗，狀態碼：\", response.status_code)"
   ]
  },
  {
   "cell_type": "code",
   "execution_count": 7,
   "id": "d2998684-cecc-4c44-b7a0-15227d7c4163",
   "metadata": {
    "tags": []
   },
   "outputs": [
    {
     "name": "stdout",
     "output_type": "stream",
     "text": [
      "the page title : List of Falcon 9 and Falcon Heavy launches - Wikipedia\n"
     ]
    }
   ],
   "source": [
    "# Create a BeautifulSoup object using the BeautifulSoup() method\n",
    "# 使用 BeautifulSoup() 方法創建一個 BeautifulSoup 物件\n",
    "soup = BeautifulSoup(html_content, 'html.parser')\n",
    "# Print the page title to verify whether the BeautifulSoup object was created successfully\n",
    "# 打印頁面標題以驗證 BeautifulSoup 物件是否創建成功\n",
    "page_title = soup.title.string\n",
    "print(\"the page title :\", page_title)"
   ]
  },
  {
   "cell_type": "markdown",
   "id": "146f449b-a7ae-4e41-b97d-d747efbf100e",
   "metadata": {},
   "source": [
    "task2"
   ]
  },
  {
   "cell_type": "code",
   "execution_count": 8,
   "id": "11282351-5515-47b2-99c1-8b1fab8bc41c",
   "metadata": {
    "tags": []
   },
   "outputs": [
    {
     "name": "stdout",
     "output_type": "stream",
     "text": [
      "找到 26 個表格\n",
      "第一個表格內容：\n",
      "<table class=\"col-begin\" role=\"presentation\">\n",
      " <tbody>\n",
      "  <tr>\n",
      "   <td class=\"col-break\">\n",
      "    <div class=\"mw-heading mw-heading3\">\n",
      "     <h3 id=\"Rocket_configurations\">\n",
      "      Rocket configurations\n",
      "     </h3>\n",
      "    </div>\n",
      "    <div class=\"chart noresize\" style=\"padding-top:10px;margin-top:1em;max-width:420px;\">\n",
      "     <div style=\"position:relative;min-height:320px;min-width:420px;max-width:420px;\">\n",
      "      <div style=\"float:right;position:relative;min-height:240px;min-width:320px;max-width:320px;border-lef\n"
     ]
    }
   ],
   "source": [
    "from bs4 import BeautifulSoup\n",
    "\n",
    "# 假設您已經創建了 BeautifulSoup 物件，並將其存儲在變量 soup 中\n",
    "# soup = BeautifulSoup(html_content, 'html.parser')  # 這是從之前的步驟中獲得的\n",
    "\n",
    "# 使用 find_all() 函數查找所有的 <table> 標籤\n",
    "html_tables = soup.find_all('table')\n",
    "\n",
    "# 打印表格數量以驗證查找結果\n",
    "print(f\"找到 {len(html_tables)} 個表格\")\n",
    "\n",
    "# 如果需要，可以打印第一個表格的內容作為示例\n",
    "if html_tables:\n",
    "    print(\"第一個表格內容：\")\n",
    "    print(html_tables[0].prettify()[:500])  # 打印前500個字符作為示例"
   ]
  },
  {
   "cell_type": "code",
   "execution_count": 9,
   "id": "b8f5e5e3-9ce3-4ae9-9815-34201a2e31a3",
   "metadata": {
    "tags": []
   },
   "outputs": [
    {
     "name": "stdout",
     "output_type": "stream",
     "text": [
      "<table class=\"wikitable plainrowheaders collapsible\" style=\"width: 100%;\">\n",
      "<tbody><tr>\n",
      "<th scope=\"col\">Flight No.\n",
      "</th>\n",
      "<th scope=\"col\">Date and<br/>time (<a href=\"/wiki/Coordinated_Universal_Time\" title=\"Coordinated Universal Time\">UTC</a>)\n",
      "</th>\n",
      "<th scope=\"col\"><a href=\"/wiki/List_of_Falcon_9_first-stage_boosters\" title=\"List of Falcon 9 first-stage boosters\">Version,<br/>Booster</a> <sup class=\"reference\" id=\"cite_ref-booster_11-0\"><a href=\"#cite_note-booster-11\"><span class=\"cite-bracket\">[</span>b<span class=\"cite-bracket\">]</span></a></sup>\n",
      "</th>\n",
      "<th scope=\"col\">Launch site\n",
      "</th>\n",
      "<th scope=\"col\">Payload<sup class=\"reference\" id=\"cite_ref-Dragon_12-0\"><a href=\"#cite_note-Dragon-12\"><span class=\"cite-bracket\">[</span>c<span class=\"cite-bracket\">]</span></a></sup>\n",
      "</th>\n",
      "<th scope=\"col\">Payload mass\n",
      "</th>\n",
      "<th scope=\"col\">Orbit\n",
      "</th>\n",
      "<th scope=\"col\">Customer\n",
      "</th>\n",
      "<th scope=\"col\">Launch<br/>outcome\n",
      "</th>\n",
      "<th scope=\"col\"><a href=\"/wiki/Falcon_9_first-stage_landing_tests\" title=\"Falcon 9 first-stage landing tests\">Booster<br/>landing</a>\n",
      "</th></tr>\n",
      "<tr>\n",
      "<th rowspan=\"2\" scope=\"row\" style=\"text-align:center;\">1\n",
      "</th>\n",
      "<td>4 June 2010,<br/>18:45\n",
      "</td>\n",
      "<td><a href=\"/wiki/Falcon_9_v1.0\" title=\"Falcon 9 v1.0\">F9 v1.0</a><sup class=\"reference\" id=\"cite_ref-MuskMay2012_13-0\"><a href=\"#cite_note-MuskMay2012-13\"><span class=\"cite-bracket\">[</span>7<span class=\"cite-bracket\">]</span></a></sup><br/>B0003.1<sup class=\"reference\" id=\"cite_ref-block_numbers_14-0\"><a href=\"#cite_note-block_numbers-14\"><span class=\"cite-bracket\">[</span>8<span class=\"cite-bracket\">]</span></a></sup>\n",
      "</td>\n",
      "<td><a href=\"/wiki/Cape_Canaveral_Space_Force_Station\" title=\"Cape Canaveral Space Force Station\">CCAFS</a>,<br/><a href=\"/wiki/Cape_Canaveral_Space_Launch_Complex_40\" title=\"Cape Canaveral Space Launch Complex 40\">SLC-40</a>\n",
      "</td>\n",
      "<td><a href=\"/wiki/Dragon_Spacecraft_Qualification_Unit\" title=\"Dragon Spacecraft Qualification Unit\">Dragon Spacecraft Qualification Unit</a>\n",
      "</td>\n",
      "<td>\n",
      "</td>\n",
      "<td><a href=\"/wiki/Low_Earth_orbit\" title=\"Low Earth orbit\">LEO</a>\n",
      "</td>\n",
      "<td><a href=\"/wiki/SpaceX\" title=\"SpaceX\">SpaceX</a>\n",
      "</td>\n",
      "<td class=\"table-success\" style=\"background: #9EFF9E; color:black; vertical-align: middle; text-align: center;\">Success\n",
      "</td>\n",
      "<td class=\"table-failure\" style=\"background: #FFC7C7; color:black; vertical-align: middle; text-align: center;\">Failure<sup class=\"reference\" id=\"cite_ref-ns20110930_15-0\"><a href=\"#cite_note-ns20110930-15\"><span class=\"cite-bracket\">[</span>9<span class=\"cite-bracket\">]</span></a></sup><sup class=\"reference\" id=\"cite_ref-16\"><a href=\"#cite_note-16\"><span class=\"cite-bracket\">[</span>10<span class=\"cite-bracket\">]</span></a></sup><br/><small>(parachute)</small>\n",
      "</td></tr>\n",
      "<tr>\n",
      "<td colspan=\"9\">First flight of Falcon 9 v1.0.<sup class=\"reference\" id=\"cite_ref-sfn20100604_17-0\"><a href=\"#cite_note-sfn20100604-17\"><span class=\"cite-bracket\">[</span>11<span class=\"cite-bracket\">]</span></a></sup> Used a boilerplate version of Dragon capsule which was not designed to separate from the second stage.<small>(<a href=\"#First_flight_of_Falcon_9\">more details below</a>)</small> Attempted to recover the first stage by parachuting it into the ocean, but it burned up on reentry, before the parachutes even deployed.<sup class=\"reference\" id=\"cite_ref-parachute_18-0\"><a href=\"#cite_note-parachute-18\"><span class=\"cite-bracket\">[</span>12<span class=\"cite-bracket\">]</span></a></sup>\n",
      "</td></tr>\n",
      "<tr>\n",
      "<th rowspan=\"2\" scope=\"row\" style=\"text-align:center;\">2\n",
      "</th>\n",
      "<td>8 December 2010,<br/>15:43<sup class=\"reference\" id=\"cite_ref-spaceflightnow_Clark_Launch_Report_19-0\"><a href=\"#cite_note-spaceflightnow_Clark_Launch_Report-19\"><span class=\"cite-bracket\">[</span>13<span class=\"cite-bracket\">]</span></a></sup>\n",
      "</td>\n",
      "<td><a href=\"/wiki/Falcon_9_v1.0\" title=\"Falcon 9 v1.0\">F9 v1.0</a><sup class=\"reference\" id=\"cite_ref-MuskMay2012_13-1\"><a href=\"#cite_note-MuskMay2012-13\"><span class=\"cite-bracket\">[</span>7<span class=\"cite-bracket\">]</span></a></sup><br/>B0004.1<sup class=\"reference\" id=\"cite_ref-block_numbers_14-1\"><a href=\"#cite_note-block_numbers-14\"><span class=\"cite-bracket\">[</span>8<span class=\"cite-bracket\">]</span></a></sup>\n",
      "</td>\n",
      "<td><a href=\"/wiki/Cape_Canaveral_Space_Force_Station\" title=\"Cape Canaveral Space Force Station\">CCAFS</a>,<br/><a href=\"/wiki/Cape_Canaveral_Space_Launch_Complex_40\" title=\"Cape Canaveral Space Launch Complex 40\">SLC-40</a>\n",
      "</td>\n",
      "<td><a href=\"/wiki/SpaceX_Dragon\" title=\"SpaceX Dragon\">Dragon</a> <a class=\"mw-redirect\" href=\"/wiki/COTS_Demo_Flight_1\" title=\"COTS Demo Flight 1\">demo flight C1</a><br/>(Dragon C101)\n",
      "</td>\n",
      "<td>\n",
      "</td>\n",
      "<td><a href=\"/wiki/Low_Earth_orbit\" title=\"Low Earth orbit\">LEO</a> (<a href=\"/wiki/International_Space_Station\" title=\"International Space Station\">ISS</a>)\n",
      "</td>\n",
      "<td><style data-mw-deduplicate=\"TemplateStyles:r1126788409\">.mw-parser-output .plainlist ol,.mw-parser-output .plainlist ul{line-height:inherit;list-style:none;margin:0;padding:0}.mw-parser-output .plainlist ol li,.mw-parser-output .plainlist ul li{margin-bottom:0}</style><div class=\"plainlist\">\n",
      "<ul><li><a href=\"/wiki/NASA\" title=\"NASA\">NASA</a> (<a href=\"/wiki/Commercial_Orbital_Transportation_Services\" title=\"Commercial Orbital Transportation Services\">COTS</a>)</li>\n",
      "<li><a href=\"/wiki/National_Reconnaissance_Office\" title=\"National Reconnaissance Office\">NRO</a></li></ul>\n",
      "</div>\n",
      "</td>\n",
      "<td class=\"table-success\" style=\"background: #9EFF9E; color:black; vertical-align: middle; text-align: center;\">Success<sup class=\"reference\" id=\"cite_ref-ns20110930_15-1\"><a href=\"#cite_note-ns20110930-15\"><span class=\"cite-bracket\">[</span>9<span class=\"cite-bracket\">]</span></a></sup>\n",
      "</td>\n",
      "<td class=\"table-failure\" style=\"background: #FFC7C7; color:black; vertical-align: middle; text-align: center;\">Failure<sup class=\"reference\" id=\"cite_ref-ns20110930_15-2\"><a href=\"#cite_note-ns20110930-15\"><span class=\"cite-bracket\">[</span>9<span class=\"cite-bracket\">]</span></a></sup><sup class=\"reference\" id=\"cite_ref-20\"><a href=\"#cite_note-20\"><span class=\"cite-bracket\">[</span>14<span class=\"cite-bracket\">]</span></a></sup><br/><small>(parachute)</small>\n",
      "</td></tr>\n",
      "<tr>\n",
      "<td colspan=\"9\">Maiden flight of <a class=\"mw-redirect\" href=\"/wiki/Dragon_capsule\" title=\"Dragon capsule\">Dragon capsule</a>, consisting of over 3 hours of testing thruster maneuvering and reentry.<sup class=\"reference\" id=\"cite_ref-spaceflightnow_Clark_unleashing_Dragon_21-0\"><a href=\"#cite_note-spaceflightnow_Clark_unleashing_Dragon-21\"><span class=\"cite-bracket\">[</span>15<span class=\"cite-bracket\">]</span></a></sup> Attempted to recover the first stage by parachuting it into the ocean, but it disintegrated upon reentry, before the parachutes were deployed.<sup class=\"reference\" id=\"cite_ref-parachute_18-1\"><a href=\"#cite_note-parachute-18\"><span class=\"cite-bracket\">[</span>12<span class=\"cite-bracket\">]</span></a></sup> <small>(<a href=\"#COTS_demo_missions\">more details below</a>)</small> It also included two <a href=\"/wiki/CubeSat\" title=\"CubeSat\">CubeSats</a>,<sup class=\"reference\" id=\"cite_ref-NRO_Taps_Boeing_for_Next_Batch_of_CubeSats_22-0\"><a href=\"#cite_note-NRO_Taps_Boeing_for_Next_Batch_of_CubeSats-22\"><span class=\"cite-bracket\">[</span>16<span class=\"cite-bracket\">]</span></a></sup> and a wheel of <a href=\"/wiki/Brou%C3%A8re\" title=\"Brouère\">Brouère</a> cheese.\n",
      "</td></tr>\n",
      "<tr>\n",
      "<th rowspan=\"2\" scope=\"row\" style=\"text-align:center;\">3\n",
      "</th>\n",
      "<td>22 May 2012,<br/>07:44<sup class=\"reference\" id=\"cite_ref-BBC_new_era_23-0\"><a href=\"#cite_note-BBC_new_era-23\"><span class=\"cite-bracket\">[</span>17<span class=\"cite-bracket\">]</span></a></sup>\n",
      "</td>\n",
      "<td><a href=\"/wiki/Falcon_9_v1.0\" title=\"Falcon 9 v1.0\">F9 v1.0</a><sup class=\"reference\" id=\"cite_ref-MuskMay2012_13-2\"><a href=\"#cite_note-MuskMay2012-13\"><span class=\"cite-bracket\">[</span>7<span class=\"cite-bracket\">]</span></a></sup><br/>B0005.1<sup class=\"reference\" id=\"cite_ref-block_numbers_14-2\"><a href=\"#cite_note-block_numbers-14\"><span class=\"cite-bracket\">[</span>8<span class=\"cite-bracket\">]</span></a></sup>\n",
      "</td>\n",
      "<td><a href=\"/wiki/Cape_Canaveral_Space_Force_Station\" title=\"Cape Canaveral Space Force Station\">CCAFS</a>,<br/><a href=\"/wiki/Cape_Canaveral_Space_Launch_Complex_40\" title=\"Cape Canaveral Space Launch Complex 40\">SLC-40</a>\n",
      "</td>\n",
      "<td><a href=\"/wiki/SpaceX_Dragon\" title=\"SpaceX Dragon\">Dragon</a> <a class=\"mw-redirect\" href=\"/wiki/Dragon_C2%2B\" title=\"Dragon C2+\">demo flight C2+</a><sup class=\"reference\" id=\"cite_ref-C2_24-0\"><a href=\"#cite_note-C2-24\"><span class=\"cite-bracket\">[</span>18<span class=\"cite-bracket\">]</span></a></sup><br/>(Dragon C102)\n",
      "</td>\n",
      "<td>525 kg (1,157 lb)<sup class=\"reference\" id=\"cite_ref-25\"><a href=\"#cite_note-25\"><span class=\"cite-bracket\">[</span>19<span class=\"cite-bracket\">]</span></a></sup>\n",
      "</td>\n",
      "<td><a href=\"/wiki/Low_Earth_orbit\" title=\"Low Earth orbit\">LEO</a> (<a href=\"/wiki/International_Space_Station\" title=\"International Space Station\">ISS</a>)\n",
      "</td>\n",
      "<td><a href=\"/wiki/NASA\" title=\"NASA\">NASA</a> (<a href=\"/wiki/Commercial_Orbital_Transportation_Services\" title=\"Commercial Orbital Transportation Services\">COTS</a>)\n",
      "</td>\n",
      "<td class=\"table-success\" style=\"background: #9EFF9E; color:black; vertical-align: middle; text-align: center;\">Success<sup class=\"reference\" id=\"cite_ref-26\"><a href=\"#cite_note-26\"><span class=\"cite-bracket\">[</span>20<span class=\"cite-bracket\">]</span></a></sup>\n",
      "</td>\n",
      "<td class=\"table-noAttempt\" style=\"background: #EEE; color:black; vertical-align: middle; white-space: nowrap; text-align: center;\">No attempt\n",
      "</td></tr>\n",
      "<tr>\n",
      "<td colspan=\"9\">Dragon spacecraft demonstrated a series of tests before it was allowed to approach the <a href=\"/wiki/International_Space_Station\" title=\"International Space Station\">International Space Station</a>. Two days later, it became the first commercial spacecraft to board the ISS.<sup class=\"reference\" id=\"cite_ref-BBC_new_era_23-1\"><a href=\"#cite_note-BBC_new_era-23\"><span class=\"cite-bracket\">[</span>17<span class=\"cite-bracket\">]</span></a></sup> <small>(<a href=\"#COTS_demo_missions\">more details below</a>)</small>\n",
      "</td></tr>\n",
      "<tr>\n",
      "<th rowspan=\"3\" scope=\"row\" style=\"text-align:center;\">4\n",
      "</th>\n",
      "<td rowspan=\"2\">8 October 2012,<br/>00:35<sup class=\"reference\" id=\"cite_ref-SFN_LLog_27-0\"><a href=\"#cite_note-SFN_LLog-27\"><span class=\"cite-bracket\">[</span>21<span class=\"cite-bracket\">]</span></a></sup>\n",
      "</td>\n",
      "<td rowspan=\"2\"><a href=\"/wiki/Falcon_9_v1.0\" title=\"Falcon 9 v1.0\">F9 v1.0</a><sup class=\"reference\" id=\"cite_ref-MuskMay2012_13-3\"><a href=\"#cite_note-MuskMay2012-13\"><span class=\"cite-bracket\">[</span>7<span class=\"cite-bracket\">]</span></a></sup><br/>B0006.1<sup class=\"reference\" id=\"cite_ref-block_numbers_14-3\"><a href=\"#cite_note-block_numbers-14\"><span class=\"cite-bracket\">[</span>8<span class=\"cite-bracket\">]</span></a></sup>\n",
      "</td>\n",
      "<td rowspan=\"2\"><a href=\"/wiki/Cape_Canaveral_Space_Force_Station\" title=\"Cape Canaveral Space Force Station\">CCAFS</a>,<br/><a href=\"/wiki/Cape_Canaveral_Space_Launch_Complex_40\" title=\"Cape Canaveral Space Launch Complex 40\">SLC-40</a>\n",
      "</td>\n",
      "<td><a href=\"/wiki/SpaceX_CRS-1\" title=\"SpaceX CRS-1\">SpaceX CRS-1</a><sup class=\"reference\" id=\"cite_ref-sxManifest20120925_28-0\"><a href=\"#cite_note-sxManifest20120925-28\"><span class=\"cite-bracket\">[</span>22<span class=\"cite-bracket\">]</span></a></sup><br/>(Dragon C103)\n",
      "</td>\n",
      "<td>4,700 kg (10,400 lb)\n",
      "</td>\n",
      "<td><a href=\"/wiki/Low_Earth_orbit\" title=\"Low Earth orbit\">LEO</a> (<a href=\"/wiki/International_Space_Station\" title=\"International Space Station\">ISS</a>)\n",
      "</td>\n",
      "<td><a href=\"/wiki/NASA\" title=\"NASA\">NASA</a> (<a href=\"/wiki/Commercial_Resupply_Services\" title=\"Commercial Resupply Services\">CRS</a>)\n",
      "</td>\n",
      "<td class=\"table-success\" style=\"background: #9EFF9E; color:black; vertical-align: middle; text-align: center;\">Success\n",
      "</td>\n",
      "<td rowspan=\"2\" style=\"background:#ececec; text-align:center;\"><span class=\"nowrap\">No attempt</span>\n",
      "</td></tr>\n",
      "<tr>\n",
      "<td><a href=\"/wiki/Orbcomm_(satellite)\" title=\"Orbcomm (satellite)\">Orbcomm-OG2</a><sup class=\"reference\" id=\"cite_ref-Orbcomm_29-0\"><a href=\"#cite_note-Orbcomm-29\"><span class=\"cite-bracket\">[</span>23<span class=\"cite-bracket\">]</span></a></sup>\n",
      "</td>\n",
      "<td>172 kg (379 lb)<sup class=\"reference\" id=\"cite_ref-gunter-og2_30-0\"><a href=\"#cite_note-gunter-og2-30\"><span class=\"cite-bracket\">[</span>24<span class=\"cite-bracket\">]</span></a></sup>\n",
      "</td>\n",
      "<td><a href=\"/wiki/Low_Earth_orbit\" title=\"Low Earth orbit\">LEO</a>\n",
      "</td>\n",
      "<td><a href=\"/wiki/Orbcomm\" title=\"Orbcomm\">Orbcomm</a>\n",
      "</td>\n",
      "<td class=\"table-partial\" style=\"background: #FFB; color:black; vertical-align: middle; text-align: center;\">Partial failure<sup class=\"reference\" id=\"cite_ref-nyt-20121030_31-0\"><a href=\"#cite_note-nyt-20121030-31\"><span class=\"cite-bracket\">[</span>25<span class=\"cite-bracket\">]</span></a></sup>\n",
      "</td></tr>\n",
      "<tr>\n",
      "<td colspan=\"9\">CRS-1 was successful, but the <a href=\"/wiki/Secondary_payload\" title=\"Secondary payload\">secondary payload</a> was inserted into an abnormally low orbit and subsequently lost. This was due to one of the nine <a href=\"/wiki/SpaceX_Merlin\" title=\"SpaceX Merlin\">Merlin engines</a> shutting down during the launch, and NASA declining a second reignition, as per <a href=\"/wiki/International_Space_Station\" title=\"International Space Station\">ISS</a> visiting vehicle safety rules, the primary payload owner is contractually allowed to decline a second reignition. NASA stated that this was because SpaceX could not guarantee a high enough likelihood of the second stage completing the second burn successfully which was required to avoid any risk of secondary payload's collision with the ISS.<sup class=\"reference\" id=\"cite_ref-OrbcommTotalLoss_32-0\"><a href=\"#cite_note-OrbcommTotalLoss-32\"><span class=\"cite-bracket\">[</span>26<span class=\"cite-bracket\">]</span></a></sup><sup class=\"reference\" id=\"cite_ref-sn20121011_33-0\"><a href=\"#cite_note-sn20121011-33\"><span class=\"cite-bracket\">[</span>27<span class=\"cite-bracket\">]</span></a></sup><sup class=\"reference\" id=\"cite_ref-34\"><a href=\"#cite_note-34\"><span class=\"cite-bracket\">[</span>28<span class=\"cite-bracket\">]</span></a></sup>\n",
      "</td></tr>\n",
      "<tr>\n",
      "<th rowspan=\"2\" scope=\"row\" style=\"text-align:center;\">5\n",
      "</th>\n",
      "<td>1 March 2013,<br/>15:10\n",
      "</td>\n",
      "<td><a href=\"/wiki/Falcon_9_v1.0\" title=\"Falcon 9 v1.0\">F9 v1.0</a><sup class=\"reference\" id=\"cite_ref-MuskMay2012_13-4\"><a href=\"#cite_note-MuskMay2012-13\"><span class=\"cite-bracket\">[</span>7<span class=\"cite-bracket\">]</span></a></sup><br/>B0007.1<sup class=\"reference\" id=\"cite_ref-block_numbers_14-4\"><a href=\"#cite_note-block_numbers-14\"><span class=\"cite-bracket\">[</span>8<span class=\"cite-bracket\">]</span></a></sup>\n",
      "</td>\n",
      "<td><a href=\"/wiki/Cape_Canaveral_Space_Force_Station\" title=\"Cape Canaveral Space Force Station\">CCAFS</a>,<br/><a href=\"/wiki/Cape_Canaveral_Space_Launch_Complex_40\" title=\"Cape Canaveral Space Launch Complex 40\">SLC-40</a>\n",
      "</td>\n",
      "<td><a href=\"/wiki/SpaceX_CRS-2\" title=\"SpaceX CRS-2\">SpaceX CRS-2</a><sup class=\"reference\" id=\"cite_ref-sxManifest20120925_28-1\"><a href=\"#cite_note-sxManifest20120925-28\"><span class=\"cite-bracket\">[</span>22<span class=\"cite-bracket\">]</span></a></sup><br/>(Dragon C104)\n",
      "</td>\n",
      "<td>4,877 kg (10,752 lb)\n",
      "</td>\n",
      "<td><a href=\"/wiki/Low_Earth_orbit\" title=\"Low Earth orbit\">LEO</a> (<a class=\"mw-redirect\" href=\"/wiki/ISS\" title=\"ISS\">ISS</a>)\n",
      "</td>\n",
      "<td><a href=\"/wiki/NASA\" title=\"NASA\">NASA</a> (<a href=\"/wiki/Commercial_Resupply_Services\" title=\"Commercial Resupply Services\">CRS</a>)\n",
      "</td>\n",
      "<td class=\"table-success\" style=\"background: #9EFF9E; color:black; vertical-align: middle; text-align: center;\">Success\n",
      "</td>\n",
      "<td class=\"table-noAttempt\" style=\"background: #EEE; color:black; vertical-align: middle; white-space: nowrap; text-align: center;\">No attempt\n",
      "</td></tr>\n",
      "<tr>\n",
      "<td colspan=\"9\">Last launch of the original Falcon 9 v1.0 <a href=\"/wiki/Launch_vehicle\" title=\"Launch vehicle\">launch vehicle</a>, first use of the unpressurized trunk section of Dragon.<sup class=\"reference\" id=\"cite_ref-sxf9_20110321_35-0\"><a href=\"#cite_note-sxf9_20110321-35\"><span class=\"cite-bracket\">[</span>29<span class=\"cite-bracket\">]</span></a></sup>\n",
      "</td></tr>\n",
      "<tr>\n",
      "<th rowspan=\"2\" scope=\"row\" style=\"text-align:center;\">6\n",
      "</th>\n",
      "<td>29 September 2013,<br/>16:00<sup class=\"reference\" id=\"cite_ref-pa20130930_36-0\"><a href=\"#cite_note-pa20130930-36\"><span class=\"cite-bracket\">[</span>30<span class=\"cite-bracket\">]</span></a></sup>\n",
      "</td>\n",
      "<td><a href=\"/wiki/Falcon_9_v1.1\" title=\"Falcon 9 v1.1\">F9 v1.1</a><sup class=\"reference\" id=\"cite_ref-MuskMay2012_13-5\"><a href=\"#cite_note-MuskMay2012-13\"><span class=\"cite-bracket\">[</span>7<span class=\"cite-bracket\">]</span></a></sup><br/>B1003<sup class=\"reference\" id=\"cite_ref-block_numbers_14-5\"><a href=\"#cite_note-block_numbers-14\"><span class=\"cite-bracket\">[</span>8<span class=\"cite-bracket\">]</span></a></sup>\n",
      "</td>\n",
      "<td><a class=\"mw-redirect\" href=\"/wiki/Vandenberg_Air_Force_Base\" title=\"Vandenberg Air Force Base\">VAFB</a>,<br/><a href=\"/wiki/Vandenberg_Space_Launch_Complex_4\" title=\"Vandenberg Space Launch Complex 4\">SLC-4E</a>\n",
      "</td>\n",
      "<td><a href=\"/wiki/CASSIOPE\" title=\"CASSIOPE\">CASSIOPE</a><sup class=\"reference\" id=\"cite_ref-sxManifest20120925_28-2\"><a href=\"#cite_note-sxManifest20120925-28\"><span class=\"cite-bracket\">[</span>22<span class=\"cite-bracket\">]</span></a></sup><sup class=\"reference\" id=\"cite_ref-CASSIOPE_MDA_37-0\"><a href=\"#cite_note-CASSIOPE_MDA-37\"><span class=\"cite-bracket\">[</span>31<span class=\"cite-bracket\">]</span></a></sup>\n",
      "</td>\n",
      "<td>500 kg (1,100 lb)\n",
      "</td>\n",
      "<td><a href=\"/wiki/Polar_orbit\" title=\"Polar orbit\">Polar orbit</a> <a href=\"/wiki/Low_Earth_orbit\" title=\"Low Earth orbit\">LEO</a>\n",
      "</td>\n",
      "<td><a href=\"/wiki/Maxar_Technologies\" title=\"Maxar Technologies\">MDA</a>\n",
      "</td>\n",
      "<td class=\"table-success\" style=\"background: #9EFF9E; color:black; vertical-align: middle; text-align: center;\">Success<sup class=\"reference\" id=\"cite_ref-pa20130930_36-1\"><a href=\"#cite_note-pa20130930-36\"><span class=\"cite-bracket\">[</span>30<span class=\"cite-bracket\">]</span></a></sup>\n",
      "</td>\n",
      "<td class=\"table-no2\" style=\"background: #FFE3E3; color: black; vertical-align: middle; text-align: center;\">Uncontrolled<br/><small>(ocean)</small><sup class=\"reference\" id=\"cite_ref-ocean_landing_38-0\"><a href=\"#cite_note-ocean_landing-38\"><span class=\"cite-bracket\">[</span>d<span class=\"cite-bracket\">]</span></a></sup>\n",
      "</td></tr>\n",
      "<tr>\n",
      "<td colspan=\"9\">First commercial mission with a private customer, first launch from Vandenberg, and demonstration flight of Falcon 9 v1.1 with an improved 13-tonne to LEO capacity.<sup class=\"reference\" id=\"cite_ref-sxf9_20110321_35-1\"><a href=\"#cite_note-sxf9_20110321-35\"><span class=\"cite-bracket\">[</span>29<span class=\"cite-bracket\">]</span></a></sup> After separation from the second stage carrying Canadian commercial and scientific satellites, the first stage booster performed a controlled reentry,<sup class=\"reference\" id=\"cite_ref-39\"><a href=\"#cite_note-39\"><span class=\"cite-bracket\">[</span>32<span class=\"cite-bracket\">]</span></a></sup> and an <a href=\"/wiki/Falcon_9_first-stage_landing_tests\" title=\"Falcon 9 first-stage landing tests\">ocean touchdown test</a> for the first time. This provided good test data, even though the booster started rolling as it neared the ocean, leading to the shutdown of the central engine as the roll depleted it of fuel, resulting in a hard impact with the ocean.<sup class=\"reference\" id=\"cite_ref-pa20130930_36-2\"><a href=\"#cite_note-pa20130930-36\"><span class=\"cite-bracket\">[</span>30<span class=\"cite-bracket\">]</span></a></sup> This was the first known attempt of a rocket engine being lit to perform a supersonic retro propulsion, and allowed SpaceX to enter a public-private partnership with <a href=\"/wiki/NASA\" title=\"NASA\">NASA</a> and its Mars entry, descent, and landing technologies research projects.<sup class=\"reference\" id=\"cite_ref-40\"><a href=\"#cite_note-40\"><span class=\"cite-bracket\">[</span>33<span class=\"cite-bracket\">]</span></a></sup> <small>(<a href=\"#Maiden_flight_of_v1.1\">more details below</a>)</small>\n",
      "</td></tr>\n",
      "<tr>\n",
      "<th rowspan=\"2\" scope=\"row\" style=\"text-align:center;\">7\n",
      "</th>\n",
      "<td>3 December 2013,<br/>22:41<sup class=\"reference\" id=\"cite_ref-sfn_wwls20130624_41-0\"><a href=\"#cite_note-sfn_wwls20130624-41\"><span class=\"cite-bracket\">[</span>34<span class=\"cite-bracket\">]</span></a></sup>\n",
      "</td>\n",
      "<td><a href=\"/wiki/Falcon_9_v1.1\" title=\"Falcon 9 v1.1\">F9 v1.1</a><br/>B1004\n",
      "</td>\n",
      "<td><a href=\"/wiki/Cape_Canaveral_Space_Force_Station\" title=\"Cape Canaveral Space Force Station\">CCAFS</a>,<br/><a href=\"/wiki/Cape_Canaveral_Space_Launch_Complex_40\" title=\"Cape Canaveral Space Launch Complex 40\">SLC-40</a>\n",
      "</td>\n",
      "<td><a href=\"/wiki/SES-8\" title=\"SES-8\">SES-8</a><sup class=\"reference\" id=\"cite_ref-sxManifest20120925_28-3\"><a href=\"#cite_note-sxManifest20120925-28\"><span class=\"cite-bracket\">[</span>22<span class=\"cite-bracket\">]</span></a></sup><sup class=\"reference\" id=\"cite_ref-spx-pr_42-0\"><a href=\"#cite_note-spx-pr-42\"><span class=\"cite-bracket\">[</span>35<span class=\"cite-bracket\">]</span></a></sup><sup class=\"reference\" id=\"cite_ref-aw20110323_43-0\"><a href=\"#cite_note-aw20110323-43\"><span class=\"cite-bracket\">[</span>36<span class=\"cite-bracket\">]</span></a></sup>\n",
      "</td>\n",
      "<td>3,170 kg (6,990 lb)\n",
      "</td>\n",
      "<td><a href=\"/wiki/Geostationary_transfer_orbit\" title=\"Geostationary transfer orbit\">GTO</a>\n",
      "</td>\n",
      "<td><a class=\"mw-redirect\" href=\"/wiki/SES_S.A.\" title=\"SES S.A.\">SES</a>\n",
      "</td>\n",
      "<td class=\"table-success\" style=\"background: #9EFF9E; color:black; vertical-align: middle; text-align: center;\">Success<sup class=\"reference\" id=\"cite_ref-SNMissionStatus7_44-0\"><a href=\"#cite_note-SNMissionStatus7-44\"><span class=\"cite-bracket\">[</span>37<span class=\"cite-bracket\">]</span></a></sup>\n",
      "</td>\n",
      "<td class=\"table-noAttempt\" style=\"background: #EEE; color:black; vertical-align: middle; white-space: nowrap; text-align: center;\">No attempt<br/><sup class=\"reference\" id=\"cite_ref-sf10120131203_45-0\"><a href=\"#cite_note-sf10120131203-45\"><span class=\"cite-bracket\">[</span>38<span class=\"cite-bracket\">]</span></a></sup>\n",
      "</td></tr>\n",
      "<tr>\n",
      "<td colspan=\"9\">First <a href=\"/wiki/Geostationary_transfer_orbit\" title=\"Geostationary transfer orbit\">Geostationary transfer orbit</a> (GTO) launch for Falcon 9,<sup class=\"reference\" id=\"cite_ref-spx-pr_42-1\"><a href=\"#cite_note-spx-pr-42\"><span class=\"cite-bracket\">[</span>35<span class=\"cite-bracket\">]</span></a></sup> and first successful reignition of the second stage.<sup class=\"reference\" id=\"cite_ref-46\"><a href=\"#cite_note-46\"><span class=\"cite-bracket\">[</span>39<span class=\"cite-bracket\">]</span></a></sup> SES-8 was inserted into a <a href=\"/wiki/Geostationary_transfer_orbit\" title=\"Geostationary transfer orbit\">Super-Synchronous Transfer Orbit</a> of 79,341 km (49,300 mi) in apogee with an <a href=\"/wiki/Orbital_inclination\" title=\"Orbital inclination\">inclination</a> of 20.55° to the <a href=\"/wiki/Equator\" title=\"Equator\">equator</a>.\n",
      "</td></tr></tbody></table>\n"
     ]
    }
   ],
   "source": [
    "# Let's print the third table and check its content\n",
    "first_launch_table = html_tables[2]\n",
    "print(first_launch_table)"
   ]
  },
  {
   "cell_type": "code",
   "execution_count": 11,
   "id": "dd1c98b9-be97-4745-b512-e6f96c01a86b",
   "metadata": {
    "tags": []
   },
   "outputs": [],
   "source": [
    "column_names = []"
   ]
  },
  {
   "cell_type": "code",
   "execution_count": 12,
   "id": "a65cb026-b191-40d8-8667-e1fa72dde202",
   "metadata": {
    "tags": []
   },
   "outputs": [
    {
     "name": "stdout",
     "output_type": "stream",
     "text": [
      "[]\n"
     ]
    }
   ],
   "source": [
    "print(column_names)"
   ]
  },
  {
   "cell_type": "markdown",
   "id": "ea2b4d0f-f8f5-4046-a7db-d2f98d74a1f1",
   "metadata": {},
   "source": [
    "task3"
   ]
  },
  {
   "cell_type": "code",
   "execution_count": 13,
   "id": "75c89326-8e7a-4a33-80d0-75a914381155",
   "metadata": {
    "tags": []
   },
   "outputs": [
    {
     "name": "stdout",
     "output_type": "stream",
     "text": [
      "{'Flight No.': [], 'Launch site': [], 'Payload': [], 'Payload mass': [], 'Orbit': [], 'Customer': [], 'Launch outcome': [], 'Version Booster': [], 'Booster landing': [], 'Date': [], 'Time': []}\n"
     ]
    }
   ],
   "source": [
    "# 假設 column_names 是您的列名稱列表\n",
    "column_names = ['Flight No.', 'Launch site', 'Payload', 'Payload mass', 'Orbit', 'Customer', 'Launch outcome', 'Version Booster', 'Booster landing', 'Date', 'Time']\n",
    "\n",
    "# 使用字典推導式創建一個空字典，其中每個鍵都是一個獨立的空列表\n",
    "launch_dict = {key: [] for key in column_names}\n",
    "\n",
    "# 如果存在不相關的列，則將其刪除\n",
    "if 'Date and time ( )' in launch_dict:\n",
    "    del launch_dict['Date and time ( )']\n",
    "\n",
    "# 打印字典以驗證其正確性\n",
    "print(launch_dict)"
   ]
  },
  {
   "cell_type": "code",
   "execution_count": 14,
   "id": "68861ae2-8b41-48b8-acbc-4c36dc5c4e23",
   "metadata": {
    "tags": []
   },
   "outputs": [
    {
     "name": "stdout",
     "output_type": "stream",
     "text": [
      "{'Flight No.': [], 'Launch site': [], 'Payload': [], 'Payload mass': [], 'Orbit': [], 'Customer': [], 'Launch outcome': [], 'Version Booster': [], 'Booster landing': [], 'Date': [], 'Time': []}\n"
     ]
    }
   ],
   "source": [
    "# 假設 launch_dict 已經被創建並初始化\n",
    "launch_dict = {key: [] for key in column_names}\n",
    "\n",
    "# 添加新的列，並將其值初始化為空列表\n",
    "launch_dict['Version Booster'] = []\n",
    "launch_dict['Booster landing'] = []\n",
    "launch_dict['Date'] = []\n",
    "launch_dict['Time'] = []\n",
    "\n",
    "# 打印字典以驗證其正確性\n",
    "print(launch_dict)"
   ]
  },
  {
   "cell_type": "code",
   "execution_count": 15,
   "id": "b172a273-2355-44c8-8476-a788fa4705d0",
   "metadata": {
    "tags": []
   },
   "outputs": [
    {
     "name": "stdout",
     "output_type": "stream",
     "text": [
      "Empty DataFrame\n",
      "Columns: [Flight No., Launch site, Payload, Payload mass, Orbit, Customer, Launch outcome, Version Booster, Booster landing, Date, Time]\n",
      "Index: []\n"
     ]
    }
   ],
   "source": [
    "import pandas as pd\n",
    "\n",
    "# 將字典轉換為 Pandas 資料框\n",
    "launch_df = pd.DataFrame(launch_dict)\n",
    "\n",
    "# 打印資料框以驗證其正確性\n",
    "print(launch_df)"
   ]
  },
  {
   "cell_type": "code",
   "execution_count": 16,
   "id": "d7d49e71-1462-48df-9978-dbe8740ffa87",
   "metadata": {
    "tags": []
   },
   "outputs": [
    {
     "name": "stdout",
     "output_type": "stream",
     "text": [
      "{'Flight No.': ['1', '2', '3', '4', '5', '6', '7', '8', '9', '10', '11', '12', '13', '14', '15', '16', '17', '18', '19', '20', '21', '22', '23', '24', '25', '26', '27', '28', '29', '30', '31', '32', '33', '34', '35', '36', '37', '38', '39', '40', '41', '42', '43', '44', '45', '46', '47', '48', '49', '50', '51', '52', '53', '54', '55', '56', '57', '58', '59', '60', '61', '62', '63', '64', '65', '66', '67', '68', '69', '70', '71', '72', '73', '74', '75', '76', '77', '78', '79', '80', '81', '82', '83', '84', '85', '86', '87', '88', '89', '90', '91', '92', '93', '94', '95', '96', '97', '98', '99', '100', '101', '102', '103', '104', '105', '106', '107', '108', '109', '110', '111', '112', '113', '114', '115', '116', '117', '118', '119', '120', '121'], 'Launch site': ['F9 v1.0[7]B0003.1[8]', 'F9 v1.0[7]B0004.1[8]', 'F9 v1.0[7]B0005.1[8]', 'F9 v1.0[7]B0006.1[8]', 'F9 v1.0[7]B0007.1[8]', 'F9 v1.1[7]B1003[8]', 'F9 v1.1B1004', 'F9 v1.1', 'F9 v1.1', 'F9 v1.1', 'F9 v1.1', 'F9 v1.1B1011[8]', 'F9 v1.1B1010[8]', 'F9 v1.1B1012[8]', 'F9 v1.1B1013[8]', 'F9 v1.1B1014[8]', 'F9 v1.1B1015[8]', 'F9 v1.1B1016[8]', 'F9 v1.1B1018[8]', 'F9 FTB1019.1[98]', 'F9 v1.1B1017[8]', 'F9 FTB1020.1[108]', 'F9 FTB1021.1[115]', 'F9 FTB1022.1[122]', 'F9 FTB1023.1[129]', 'F9 FTB1024.1[108]', 'F9 FTB1025.1[129]', 'F9 FTB1026.1[108]', 'F9 FTB1029.1[151]', 'F9 FTB1031.1[8]', 'F9 FTB1030.1[163]', 'F9 FT ♺B1021.2[115]', 'F9 FTB1032.1[129]', 'F9 FTB1034.1[179]', 'F9 FTB1035.1[185]', 'F9 FT ♺ B1029.2[195]', 'F9 FTB1036.1[198]', 'F9 FTB1037.1[200]', 'F9 B4B1039.1[207]', 'F9 FTB1038.1[209]', 'F9 B4B1040.1[108]', 'F9 B4B1041.1[219]', 'F9 FT ♺ B1031.2[220]', 'F9 B4B1042.1[219]', 'F9 FT ♺ B1035.2[227]', 'F9 FT ♺ B1036.2[227]', 'F9 B4B1043.1[238]', 'F9 FT ♺ B1032.2[245]', 'F9 FT ♺B1038.2[268]', 'F9 B4B1044.1[108]', 'F9 B4 ♺B1041.2[268]', 'F9 B4 ♺B1039.2[292]', 'F9 B4B1045.1[268]', 'F9 B5[311]B1046.1[268]', 'F9 B4 ♺B1043.2[322]', 'F9 B4 ♺B1040.2[268]', 'F9 B4 ♺B1045.2[336]', 'F9 B5B1047.1', 'F9 B5[349]B1048.1[350]', 'F9 B5 ♺ B1046.2[354]', 'F9 B5B1049.1[268]', 'F9 B5 ♺B1048.2[364]', 'F9 B5 ♺B1047.2[268]', 'F9 B5 ♺ B1046.3[268]SHERPA', 'F9 B5B1050[268]', 'F9 B5B1054[387]', 'F9 B5 ♺B1049.2[397]', 'F9 B5 ♺B1048.3[399]', 'F9 B5B1051.1[268][413]', 'F9 B5B1056.1[420]', 'F9 B5 ♺B1049.3[434]', 'F9 B5 ♺B1051.2[420]', 'F9 B5 ♺B1056.2[465]', 'F9 B5 ♺B1047.3[472]', 'F9 B5 ♺B1048.4', 'F9 B5B1059.1[482]', 'F9 B5 ♺B1056.3[482]', 'F9 B5 ♺ B1049.4', 'F9 B5 ♺ B1046.4', 'F9 B5 ♺B1051.3', 'F9 B5 ♺B1056.4', 'F9 B5 ♺B1059.2', 'F9 B5 ♺ B1048.5', 'F9 B5 ♺B1051.4', 'F9 B5B1058.1[518]', 'F9 B5 ♺B1049.5', 'F9 B5 ♺B1059.3', 'F9 B5B1060.1', 'F9 B5 ♺ B1058.2[544]', 'F9 B5 ♺B1051.5', 'F9 B5 ♺B1049.6[544]', 'F9 B5 ♺B1059.4', 'F9 B5 ♺B1060.2[563]', 'F9 B5 ♺B1058.3[565]', 'F9 B5 ♺B1051.6[568]', 'F9 B5 ♺B1060.3', 'F9 B5B1062.1', 'F9 B5B1061.1[582]', 'F9 B5B1063.1', 'F9 B5 ♺B1049.7[590]', 'F9 B5 ♺B1058.4[592]', 'F9 B5 ♺B1051.7', 'F9 B5 ♺B1059.5', 'F9 B5 ♺B1060.4', 'F9 B5 ♺B1051.8[609]', 'F9 B5 ♺B1058.5[613]', 'F9 B5 ♺B1060.5[624]', 'F9 B5 ♺B1059.6', 'F9 B5 ♺B1049.8[634]', 'F9 B5 ♺B1058.6[638]', 'F9 B5 ♺B1051.9', 'F9 B5 ♺B1060.6[643]', 'F9 B5 ♺B1058.7', 'F9 B5 ♺B1061.2[647]', 'F9 B5 ♺B1060.7[652]', 'F9 B5 ♺B1049.9[655]', 'F9 B5 ♺B1051.10[657]', 'F9 B5 ♺B1058.8[660]', 'F9 B5 ♺B1063.2[665]', 'F9 B5 B1067.1[668]', 'F9 B5 ♺ B1061.3'], 'Payload': ['CCAFS,SLC-40', 'CCAFS,SLC-40', 'CCAFS,SLC-40', 'CCAFS,SLC-40', 'CCAFS,SLC-40', 'VAFB,SLC-4E', 'CCAFS,SLC-40', 'CCAFS,SLC-40', 'Cape Canaveral,LC-40', 'Cape Canaveral,LC-40', 'Cape Canaveral,LC-40', 'Cape Canaveral,LC-40', 'Cape Canaveral,LC-40', 'Cape Canaveral,LC-40', 'Cape Canaveral,LC-40', 'Cape Canaveral,LC-40', 'Cape Canaveral,LC-40', 'Cape Canaveral,LC-40', 'Cape Canaveral,LC-40', 'Cape Canaveral,LC-40', 'VAFB,SLC-4E', 'Cape Canaveral,LC-40', 'Cape Canaveral,LC-40', 'Cape Canaveral,LC-40', 'Cape Canaveral,LC-40', 'Cape Canaveral,LC-40', 'Cape Canaveral,LC-40', 'Cape Canaveral,LC-40', 'VAFB,SLC-4E', 'KSC,LC-39A', 'KSC,LC-39A', 'KSC,LC-39A', 'KSC,LC-39A', 'KSC,LC-39A', 'KSC,LC-39A', 'KSC,LC-39A', 'VAFB,SLC-4E', 'KSC,LC-39A', 'KSC,LC-39A', 'VAFB,SLC-4E', 'KSC,LC-39A', 'VAFB,SLC-4E', 'KSC,LC-39A', 'KSC,LC-39A', 'Cape Canaveral,SLC-40', 'VAFB,SLC-4E', 'CCAFS,SLC-40', 'CCAFS,SLC-40', 'VAFB,SLC-4E', 'CCAFS,SLC-40', 'VAFB,SLC-4E', 'CCAFS,SLC-40', 'CCAFS,SLC-40', 'KSC,LC-39A', 'VAFB,SLC-4E', 'CCAFS,SLC-40', 'CCAFS,SLC-40', 'CCAFS,SLC-40', 'VAFB,SLC-4E', 'CCAFS,SLC-40', 'CCAFS,SLC-40', 'VAFB,SLC-4E', 'KSC,LC-39A', 'VAFB,SLC-4E', 'CCAFS,SLC-40', 'CCAFS,SLC-40', 'VAFB,SLC-4E', 'CCAFS,SLC-40', 'KSC,LC-39A', 'CCAFS,SLC-40', 'CCAFS,SLC-40', 'VAFB,SLC-4E', 'CCAFSSLC-40', 'CCAFS,SLC-40', 'CCAFS,SLC-40', 'CCAFS,SLC-40', 'CCAFS,SLC-40', 'CCAFS,SLC-40', 'KSC,LC-39A', 'CCAFS,SLC-40', 'CCAFS,SLC-40', 'CCAFS,SLC-40', 'KSC,LC-39A', 'KSC,LC-39A', 'KSC,LC-39A', 'CCAFS,SLC-40', 'CCAFS,SLC-40', 'CCAFS,SLC-40', 'CCAFS,SLC-40', 'KSC,LC-39A', 'CCAFS,SLC-40', 'CCAFS,SLC-40', 'KSC,LC-39A', 'KSC,LC-39A', 'KSC,LC-39A', 'CCAFS,SLC-40', 'CCAFS,SLC-40', 'KSC,LC-39A', 'VAFB,SLC-4E', 'CCAFS,SLC-40', 'KSC,LC-39A', 'CCSFS,SLC-40[597]', 'KSC,LC-39A', 'CCSFS,SLC-40', 'KSC,LC-39A', 'CCSFS,SLC-40', 'CCSFS,SLC-40', 'CCSFS,SLC-40', 'KSC,LC-39A', 'CCSFS,SLC-40', 'KSC,LC-39A', 'CCSFS,SLC-40', 'CCSFS,SLC-40', 'KSC,LC-39A', 'CCSFS,SLC-40', 'KSC,LC-39A', 'CCSFS,SLC-40', 'KSC,LC-39A[661]', 'CCSFS,SLC-40[665]', 'KSC,LC-39A', 'CCSFS,SLC-40'], 'Payload mass': ['Dragon Spacecraft Qualification Unit', 'Dragon demo flight C1(Dragon C101)', 'Dragon demo flight C2+[18](Dragon C102)', 'SpaceX CRS-1[22](Dragon C103)', 'SpaceX CRS-2[22](Dragon C104)', 'CASSIOPE[22][31]', 'SES-8[22][35][36]', 'Thaicom 6[22]', 'SpaceX CRS-3[22](Dragon C105)', 'Orbcomm-OG2-1(6 satellites)[22]', 'AsiaSat 8[22][54][55]', 'AsiaSat 6[22][54][58]', 'SpaceX CRS-4[22](Dragon C106.1)', 'SpaceX CRS-5[68](Dragon C107)', 'DSCOVR[68][73]', 'ABS-3A\\nEutelsat 115 West B[68]', 'SpaceX CRS-6[68](Dragon C108.1)', 'TürkmenÄlem 52°E / MonacoSAT[68][87]', 'SpaceX CRS-7[68](Dragon C109)', 'Orbcomm-OG2-2(11 satellites)[22][97]', 'Jason-3[68][104]', 'SES-9[68][109][110]', 'SpaceX CRS-8[68][110](Dragon C110.1)', 'JCSAT-14[123]', 'Thaicom 8[130][131]', 'ABS-2A\\nEutelsat 117 West B[68]', 'SpaceX CRS-9[68][141](Dragon C111.1)', 'JCSAT-16', 'Iridium NEXT-1(10 satellites)[152][153]', 'SpaceX CRS-10[141](Dragon C112.1)', 'EchoStar 23', 'SES-10[109][168]', 'NROL-76[174]', 'Inmarsat-5 F4[180]', 'SpaceX CRS-11[141](Dragon C106.2 ♺)', 'BulgariaSat-1[196]', 'Iridium NEXT-2(10 satellites)', 'Intelsat 35e[201]', 'SpaceX CRS-12[141](Dragon C113.1)', 'Formosat-5[210][211]', 'Boeing X-37B OTV-5', 'Iridium NEXT-3(10 satellites)[152]', 'SES-11 / EchoStar 105', 'Koreasat 5A[222]', 'SpaceX CRS-13[141](Dragon C108.2 ♺)', 'Iridium NEXT-4(10 satellites)[152]', 'Zuma[238][239][240]', 'GovSat-1 (SES-16)[246]', 'Paz[269]\\nTintin A and Tintin B[270]', 'Hispasat 30W-6[277]\\nPODSat[278]', 'Iridium NEXT-5(10 satellites)[152]', 'SpaceX CRS-14[141](Dragon C110.2 ♺)', 'Transiting Exoplanet Survey Satellite (TESS)[304]', 'Bangabandhu-1[312][313]', 'Iridium NEXT-6(5 satellites)[152][155]\\nGRACE-FO × 2[323][324]', 'SES-12[331]', 'SpaceX CRS-15(Dragon C111.2 ♺)', 'Telstar 19V[341]', 'Iridium NEXT-7(10 satellites)[152]', 'Merah Putih (formerly Telkom 4)[355][356]', 'Telstar 18V / Apstar-5C[341]', 'SAOCOM 1A[365][366]', \"Es'hail 2[368]\", 'SSO-A (SmallSat Express)', 'SpaceX CRS-16(Dragon C112.2♺ )', 'GPS III-01 (Vespucci)', 'Iridium NEXT-8(10 satellites)[152]', 'Nusantara Satu (PSN-6)[400]\\nBeresheet Moon lander[401]\\nS5[402]', 'Crew Dragon Demo-1[414](Dragon C201)', 'SpaceX CRS-17[141](Dragon C113.2 ♺)', 'Starlink v0.9 (60 satellites)', 'RADARSAT Constellation(3 satellites)', 'SpaceX CRS-18[141](Dragon C108.3 ♺)', 'AMOS-17[473]', 'Starlink 1 v1.0 (60 satellites)', 'SpaceX CRS-19[483](Dragon C106.3 ♺)', 'JCSat-18 / Kacific 1[487]', 'Starlink 2 v1.0 (60 satellites)', 'Crew Dragon in-flight abort test[495](Dragon C205.1)', 'Starlink 3 v1.0 (60 satellites)', 'Starlink 4 v1.0 (60 satellites)', 'SpaceX CRS-20(Dragon C112.3 ♺)', 'Starlink 5 v1.0 (60 satellites)', 'Starlink 6 v1.0 (60 satellites)', 'Crew Dragon Demo-2[414](Crew Dragon C206.1 Endeavour)', 'Starlink 7 v1.0 (60 satellites)', 'Starlink 8 v1.0 (58 satellites),[524][525]SkySats-16, -17, -18', 'GPS III-03 (Matthew Henson)', 'ANASIS-II', 'Starlink 9 v1.0 (57 Satellites),[524]SXRS-1 (BlackSky Global 7 and 8)', 'Starlink 10 v1.0 (58 satellites)SkySat-19, -20, -21', 'SAOCOM 1B[556]GNOMES 1[556]Tyvak-0172[557]', 'Starlink 11 v1.0 (60 satellites)', 'Starlink 12 v1.0 (60 satellites)', 'Starlink 13 v1.0 (60 satellites)', 'Starlink 14 v1.0 (60 satellites)', 'GPS III-04 (Sacagawea)[541][573]', 'Crew-1(Crew Dragon C207.1 Resilience)', 'Sentinel-6 Michael Freilich (Jason-CS A)', 'Starlink 15 v1.0 (60 satellites)', 'SpaceX CRS-21(Dragon C208.1)', 'SXM-7', 'NROL-108', 'Türksat 5A[605]', 'Starlink 16 v1.0 (60 satellites)', 'Transporter-1 (143 smallsat rideshare)', 'Starlink 18 v1.0 (60 satellites)', 'Starlink 19 v1.0 (60 satellites)[627]', 'Starlink 17 v1.0 (60 satellites)', 'Starlink 20 v1.0 (60 satellites)', 'Starlink 21 v1.0 (60 satellites)', 'Starlink 22 v1.0 (60 satellites)', 'Starlink 23 v1.0 (60 satellites)', 'Crew-2(Crew Dragon C206.2 Endeavour ♺)', 'Starlink 24 v1.0 (60 satellites)', 'Starlink 25 v1.0 (60 satellites)', 'Starlink 27 v1.0 (60 satellites)', 'Starlink 26 v1.0 (52 Satellites) Capella-6 &Tyvak-0130[662]', 'Starlink 28 v1.0 (60 Satellites)[665]', 'SpaceX CRS-22(Dragon C209.1)', 'SXM-8[674]'], 'Orbit': ['', '', '525\\xa0kg (1,157\\xa0lb)[19]', '4,700\\xa0kg (10,400\\xa0lb)', '4,877\\xa0kg (10,752\\xa0lb)', '500\\xa0kg (1,100\\xa0lb)', '3,170\\xa0kg (6,990\\xa0lb)', '3,325\\xa0kg (7,330\\xa0lb)', '2,296\\xa0kg (5,062\\xa0lb)[45]', '1,316\\xa0kg (2,901\\xa0lb)', '4,535\\xa0kg (9,998\\xa0lb)', '4,428\\xa0kg (9,762\\xa0lb)', '2,216\\xa0kg (4,885\\xa0lb)[62]', '2,395\\xa0kg (5,280\\xa0lb)[69]', '570\\xa0kg (1,260\\xa0lb)', '4,159\\xa0kg (9,169\\xa0lb)', '1,898\\xa0kg (4,184\\xa0lb)[82]', '4,707\\xa0kg (10,377\\xa0lb)', '1,952\\xa0kg (4,303\\xa0lb)[92]', '2,034\\xa0kg (4,484\\xa0lb)', '553\\xa0kg (1,219\\xa0lb)', '5,271\\xa0kg (11,621\\xa0lb)', '3,136\\xa0kg (6,914\\xa0lb)[116]', '4,696\\xa0kg (10,353\\xa0lb)[124]', '3,100\\xa0kg (6,800\\xa0lb)[132]', '3,600\\xa0kg (7,900\\xa0lb)', '2,257\\xa0kg (4,976\\xa0lb)[142]', '4,600\\xa0kg (10,100\\xa0lb)', '9,600\\xa0kg (21,200\\xa0lb)', '2,490\\xa0kg (5,490\\xa0lb)[160]', '5,600\\xa0kg (12,300\\xa0lb)[164]', '5,300\\xa0kg (11,700\\xa0lb)[169]', 'Classified', '6,070\\xa0kg (13,380\\xa0lb)[181]', '2,708\\xa0kg (5,970\\xa0lb)[186]', '3,669\\xa0kg (8,089\\xa0lb)[197]', '9,600\\xa0kg (21,200\\xa0lb)', '6,761\\xa0kg (14,905\\xa0lb)[202]', '3,310\\xa0kg (7,300\\xa0lb)', '475\\xa0kg (1,047\\xa0lb)[212]', '4,990\\xa0kg (11,000\\xa0lb)[216]+ OTV payload', '9,600\\xa0kg (21,200\\xa0lb)', '5,200\\xa0kg (11,500\\xa0lb)', '3,500\\xa0kg (7,700\\xa0lb)', '2,205\\xa0kg (4,861\\xa0lb)', '9,600\\xa0kg (21,200\\xa0lb)', 'Classified', '4,230\\xa0kg (9,330\\xa0lb)[247]', '2,150\\xa0kg (4,740\\xa0lb)', '6,092\\xa0kg (13,431\\xa0lb)[279]', '9,600\\xa0kg (21,200\\xa0lb)', '2,647\\xa0kg (5,836\\xa0lb)[292]', '362\\xa0kg (798\\xa0lb)[305]', '3,600\\xa0kg (7,900\\xa0lb)[314]', '6,460\\xa0kg (14,240\\xa0lb)[g]', '5,384\\xa0kg (11,870\\xa0lb)[332]', '2,697\\xa0kg (5,946\\xa0lb)[337]', '7,075\\xa0kg (15,598\\xa0lb)[342]', '9,600\\xa0kg (21,200\\xa0lb)', '5,800\\xa0kg (12,800\\xa0lb)[357]', '7,060\\xa0kg (15,560\\xa0lb)[361]', '3,000\\xa0kg (6,600\\xa0lb)[363]', '5,300\\xa0kg (11,700\\xa0lb)[369]', '~4,000\\xa0kg (8,800\\xa0lb)[372]', '2,500\\xa0kg (5,500\\xa0lb)[382]', '4,400\\xa0kg (9,700\\xa0lb)[388]', '9,600\\xa0kg (21,200\\xa0lb)', '4,850\\xa0kg (10,690\\xa0lb)[403]', '12,055\\xa0kg (26,577\\xa0lb)[415][h]', '2,495\\xa0kg (5,501\\xa0lb)[432]', '13,620\\xa0kg (30,030\\xa0lb)[5]', '4,200\\xa0kg (9,300\\xa0lb)[443]', '2,268\\xa0kg (5,000\\xa0lb)[464]', '6,500\\xa0kg (14,300\\xa0lb)[474]', '15,600\\xa0kg (34,400\\xa0lb)[5]', '2,617\\xa0kg (5,769\\xa0lb)', '6,956\\xa0kg (15,335\\xa0lb)[486]', '15,600\\xa0kg (34,400\\xa0lb)[5]', '12,050\\xa0kg (26,570\\xa0lb)', '15,600\\xa0kg (34,400\\xa0lb)[5]', '15,600\\xa0kg (34,400\\xa0lb)[5]', '1,977\\xa0kg (4,359\\xa0lb)[507]', '15,600\\xa0kg (34,400\\xa0lb)[5]', '15,600\\xa0kg (34,400\\xa0lb)[5]', '12,530\\xa0kg (27,620\\xa0lb)[519]', '15,600\\xa0kg (34,400\\xa0lb)[5]', '15,410\\xa0kg (33,970\\xa0lb)[523]', '4,311\\xa0kg (9,504\\xa0lb)[530]', '5,000–6,000\\xa0kg (11,000–13,000\\xa0lb)', '14,932\\xa0kg (32,919\\xa0lb)', '~15,440\\xa0kg (34,040\\xa0lb)', '3,130\\xa0kg (6,900\\xa0lb)[558]', '15,600\\xa0kg (34,400\\xa0lb)[5]', '15,600\\xa0kg (34,400\\xa0lb)[5]', '15,600\\xa0kg (34,400\\xa0lb)[5]', '15,600\\xa0kg (34,400\\xa0lb)', '4,311\\xa0kg (9,504\\xa0lb)', '~12,500\\xa0kg (27,600\\xa0lb)', '1,192\\xa0kg (2,628\\xa0lb)', '15,600\\xa0kg (34,400\\xa0lb)', '2,972\\xa0kg (6,552\\xa0lb)', '7,000\\xa0kg (15,000\\xa0lb)', 'Classified', '3,500\\xa0kg (7,700\\xa0lb)', '15,600\\xa0kg (34,400\\xa0lb)', '~5,000\\xa0kg (11,000\\xa0lb)', '15,600\\xa0kg (34,400\\xa0lb)', '15,600\\xa0kg (34,400\\xa0lb)', '15,600\\xa0kg (34,400\\xa0lb)', '15,600\\xa0kg (34,400\\xa0lb)', '15,600\\xa0kg (34,400\\xa0lb)', '15,600\\xa0kg (34,400\\xa0lb)', '15,600\\xa0kg (34,400\\xa0lb)', '~13,000\\xa0kg (29,000\\xa0lb)[648]', '15,600\\xa0kg (34,400\\xa0lb)', '15,600\\xa0kg (34,400\\xa0lb)', '15,600\\xa0kg (34,400\\xa0lb)', '~14,000\\xa0kg (31,000\\xa0lb)', '15,600\\xa0kg (34,400\\xa0lb)', '3,328\\xa0kg (7,337\\xa0lb)', '7,000\\xa0kg (15,000\\xa0lb)'], 'Customer': ['LEO', 'LEO (ISS)', 'LEO (ISS)', 'LEO (ISS)', 'LEO (ISS)', 'Polar orbit LEO', 'GTO', 'GTO', 'LEO (ISS)', 'LEO', 'GTO', 'GTO', 'LEO (ISS)', 'LEO (ISS)', 'HEO(Sun–Earth L1 insertion)', 'GTO', 'LEO (ISS)', 'GTO', 'LEO (ISS)', 'LEO', 'LEO', 'GTO', 'LEO (ISS)', 'GTO', 'GTO', 'GTO', 'LEO (ISS)', 'GTO', 'Polar LEO', 'LEO (ISS)', 'GTO', 'GTO', 'LEO[175]', 'GTO', 'LEO (ISS)', 'GTO', 'LEO', 'GTO', 'LEO (ISS)', 'SSO', 'LEO', 'Polar LEO', 'GTO', 'GTO', 'LEO (ISS)', 'Polar LEO', 'LEO', 'GTO', 'SSO', 'GTO', 'Polar LEO', 'LEO (ISS)', 'HEO for P/2 orbit', 'GTO', 'Polar LEO', 'GTO', 'LEO (ISS)', 'GTO[343]', 'Polar LEO', 'GTO', 'GTO[361]', 'SSO', 'GTO', 'SSO', 'LEO (ISS)', 'MEO', 'Polar LEO', 'GTO', 'LEO (ISS)', 'LEO (ISS)', 'LEO', 'SSO', 'LEO (ISS)', 'GTO', 'LEO', 'LEO (ISS)', 'GTO', 'LEO', 'Sub-orbital[496]', 'LEO', 'LEO', 'LEO (ISS)', 'LEO', 'LEO', 'LEO (ISS)', 'LEO', 'LEO', 'MEO', 'GTO', 'LEO', 'LEO', 'SSO', 'LEO', 'LEO', 'LEO', 'LEO', 'MEO', 'LEO (ISS)', 'LEO', 'LEO', 'LEO (ISS)', 'GTO', 'LEO', 'GTO', 'LEO', 'SSO', 'LEO', 'LEO', 'LEO', 'LEO', 'LEO', 'LEO', 'LEO', 'LEO (ISS)', 'LEO', 'LEO', 'LEO', 'LEO', 'LEO', 'LEO (ISS)', 'GTO'], 'Launch outcome': ['SpaceX', 'NASA (COTS)\\nNRO', 'NASA (COTS)', 'NASA (CRS)', 'NASA (CRS)', 'MDA', 'SES', 'Thaicom', 'NASA (CRS)', 'Orbcomm', 'AsiaSat', 'AsiaSat', 'NASA (CRS)', 'NASA (CRS)', 'USAF\\nNASA\\nNOAA', 'ABS\\nEutelsat', 'NASA (CRS)', 'Turkmenistan NationalSpace Agency[88]', 'NASA (CRS)', 'Orbcomm', 'NASA (LSP)\\nNOAA\\nCNES', 'SES', 'NASA (CRS)', 'SKY Perfect JSAT Group', 'Thaicom', 'ABS\\nEutelsat', 'NASA (CRS)', 'SKY Perfect JSAT Group', 'Iridium Communications', 'NASA (CRS)', 'EchoStar', 'SES', 'NRO', 'Inmarsat', 'NASA (CRS)', 'Bulsatcom', 'Iridium Communications', 'Intelsat', 'NASA (CRS)', 'NSPO', 'USAF', 'Iridium Communications', 'SES S.A.\\nEchoStar', 'KT Corporation', 'NASA (CRS)', 'Iridium Communications', 'Northrop Grumman [f][238]', 'SES', 'Hisdesat\\nexactEarth\\nSpaceX', 'Hispasat[277]\\nNovaWurks', 'Iridium Communications', 'NASA (CRS)', 'NASA (LSP)', 'Thales-Alenia / BTRC', 'Iridium Communications\\nGFZ\\xa0• NASA', 'SES', 'NASA (CRS)', 'Telesat', 'Iridium Communications', 'Telkom Indonesia', 'Telesat', 'CONAE', \"Es'hailSat\", 'Spaceflight Industries', 'NASA (CRS)', 'USAF', 'Iridium Communications', 'PSN\\nSpaceIL / IAI\\nAir Force Research', 'NASA (CCD)', 'NASA (CRS)', 'SpaceX', 'Canadian Space Agency (CSA)', 'NASA (CRS)', 'Spacecom', 'SpaceX', 'NASA (CRS)', 'Sky Perfect JSATKacific 1', 'SpaceX', 'NASA (CTS)[497]', 'SpaceX', 'SpaceX', 'NASA (CRS)', 'SpaceX', 'SpaceX', 'NASA (CCDev)', 'SpaceX', 'SpaceXPlanet Labs', 'U.S. Space Force[530]', 'Republic of Korea Army', 'SpaceXSpaceflight Industries (BlackSky)', 'SpaceXPlanet Labs', 'CONAEPlanetIQTyvak', 'SpaceX', 'SpaceX', 'SpaceX', 'SpaceX', 'USSF', 'NASA (CCP)[497]', 'NASA / NOAA / ESA / EUMETSAT', 'SpaceX', 'NASA (CRS)', 'Sirius XM', 'NRO', 'Türksat', 'SpaceX', 'Various', 'SpaceX', 'SpaceX', 'SpaceX', 'SpaceX', 'SpaceX', 'SpaceX', 'SpaceX', 'NASA (CTS)[497]', 'SpaceX', 'SpaceX', 'SpaceX', 'SpaceX Capella Space and Tyvak', 'SpaceX', 'NASA (CRS)', 'Sirius XM'], 'Version Booster': ['Success', 'Success[9]', 'Success[20]', 'Success', 'Success', 'Success[30]', 'Success[37]', 'Success[42]', 'Success', 'Success[51]', 'Success[56]', 'Success[59]', 'Success[63]', 'Success[70]', 'Success', 'Success', 'Success', 'Success', 'Failure[93](in flight)', 'Success', 'Success', 'Success', 'Success[117]', 'Success', 'Success', 'Success', 'Success', 'Success', 'Success', 'Success', 'Success', 'Success[170]', 'Success', 'Success', 'Success', 'Success', 'Success', 'Success', 'Success', 'Success', 'Success', 'Success', 'Success', 'Success', 'Success', 'Success[230]', 'Success[241]', 'Success[248]', 'Success[271]', 'Success[280]', 'Success[286]', 'Success[293]', 'Success[306]', 'Success[315]', 'Success[327]', 'Success[333]', 'Success[338]', 'Success[344]', 'Success[351]', 'Success[358]', 'Success[361]', 'Success[363]', 'Success[370]', 'Success[373]', 'Success', 'Success[386]', 'Success', 'Success', 'Success', 'Success', 'Success', 'Success', 'Success', 'Success', 'Success', 'Success', 'Success', 'Success', 'Success', 'Success', 'Success', 'Success', 'Success', 'Success', 'Success', 'Success', 'Success', 'Success', 'Success', 'Success', 'Success', 'Success', 'Success', 'Success', 'Success', 'Success', 'Success', 'Success', 'Success', 'Success', 'Success', 'Success', 'Success', 'Success', 'Success', 'Success', 'Success', 'Success', 'Success', 'Success', 'Success', 'Success', 'Success', 'Success', 'Success', 'Success', 'Success', 'Success', 'Success', 'Success', 'Success'], 'Booster landing': ['Failure[9][10](parachute)', 'Failure[9][14](parachute)', 'No attempt', 'No attempt', 'No attempt', 'Uncontrolled(ocean)[d]', 'No attempt[38]', 'No attempt[43]', 'Controlled(ocean) [d][46]', 'Controlled(ocean)[d][46]', 'No attempt[57]', 'No attempt', 'Uncontrolled(ocean)[d][64]', 'Failure (drone ship)', 'Controlled(ocean)[d]', 'No attempt[77]', 'Failure[83](drone ship)', 'No attempt[89]', 'Precluded[94](drone ship)', 'Success[99](ground pad)', 'Failure(drone ship)', 'Failure(drone ship)', 'Success[118](drone ship)', 'Success(drone ship)', 'Success[133](drone ship)', 'Failure[64](drone ship)', 'Success(ground pad)', 'Success(drone ship)', 'Success[154](drone ship)', 'Success(ground pad)', 'No attempt[165]', 'Success(drone ship)', 'Success(ground pad)', 'No attempt[165]', 'Success(ground pad)', 'Success(drone ship)', 'Success(drone ship)', 'No attempt[165]', 'Success(ground pad)', 'Success(drone ship)', 'Success(ground pad)', 'Success(drone ship)', 'Success(drone ship)', 'Success(drone ship)', 'Success(ground pad)', 'Controlled(ocean)[d][230]', 'Success(ground pad)', 'Controlled(ocean)[d][248]', 'No attempt[271]', 'No attempt[281]', 'No attempt[287]', 'No attempt[294]', 'Success[306](drone ship)', 'Success[315](drone ship)', 'No attempt[165]', 'No attempt[165]', 'No attempt[165]', 'Success[344](drone ship)', 'Success[352](drone ship)', 'Success[358](drone ship)', 'Success[361](drone ship)', 'Success[363](ground pad)', 'Success[370](drone ship)', 'Success[373](drone ship)', 'Failure[383](ground pad)', 'No attempt[386]', 'Success(drone ship)', 'Success(drone ship)', 'Success(drone ship)', 'Success(drone ship)', 'Success(drone ship)', 'Success(ground pad)', 'Success(ground pad)', 'No attempt[474]', 'Success(drone ship)', 'Success(drone ship)', 'Success(drone ship)', 'Success(drone ship)', 'No attempt', 'Success(drone ship)', 'Failure(drone ship)', 'Success(ground pad)', 'Failure(drone ship)', 'Success(drone ship)', 'Success(drone ship)', 'Success(drone ship)', 'Success(drone ship)', 'Success(drone ship)', 'Success(drone ship)', 'Success(drone ship)', 'Success(drone ship)', 'Success(ground pad)', 'Success(drone ship)', 'Success(drone ship)', 'Success(drone ship)', 'Success(drone ship)', 'Success(drone ship)', 'Success(drone ship)', 'Success(ground pad)', 'Success(drone ship)', 'Success(drone ship)', 'Success(drone ship)', 'Success(ground pad)', 'Success(drone ship)', 'Success(drone ship)', 'Success(drone ship)', 'Success(drone ship)', 'Failure (drone ship)', 'Success(drone ship)', 'Success(drone ship)', 'Success(drone ship)', 'Success(drone ship)', 'Success(drone ship)', 'Success(drone ship)', 'Success(drone ship)', 'Success(drone ship)', 'Success(drone ship)', 'Success(drone ship)', 'Success(drone ship)', 'Success(drone ship)', 'Success(drone ship)'], 'Date': ['4 June 2010', '8 December 2010', '22 May 2012', '8 October 2012', '1 March 2013', '29 September 2013', '3 December 2013', '6 January 2014', '18 April 2014', '14 July 2014', '5 August 2014', '7 September 2014', '21 September 2014', '10 January 2015', '11 February 2015', '2 March 2015', '14 April 2015', '27 April 2015', '28 June 2015', '22 December 2015', '17 January 2016', '4 March 2016', '8 April 2016', '6 May 2016', '27 May 2016', '15 June 2016', '18 July 2016', '14 August 2016', '14 January 2017', '19 February 2017', '16 March 2017', '30 March 2017', '1 May 2017', '15 May 2017', '3 June 2017', '23 June 2017', '25 June 2017', '5 July 2017', '14 August 2017', '24 August 2017', '7 September 2017', '9 October 2017', '11 October 2017', '30 October 2017', '15 December 2017', '23 December 2017', '8 January 2018', '31 January 2018', '22 February 2018', '6 March 2018', '30 March 2018', '2 April 2018', '18 April 2018', '11 May 2018', '22 May 2018', '4 June 2018', '29 June 2018', '22 July 2018', '25 July 2018', '7 August 2018', '10 September 2018', '8 October 2018', '15 November 2018', '3 December 2018', '5 December 2018', '23 December 2018', '11 January 2019', '22 February 2019', '2 March 2019', '4 May 2019', '24 May 2019', '12 June 2019', '25 July 2019', '6 August 2019', '11 November 2019', '5 December 2019', '17 December 2019', '7 January 2020', '19 January 2020', '29 January 2020', '17 February 2020', '7 March 2020', '18 March 2020', '22 April 2020', '30 May 2020', '4 June 2020', '13 June 2020', '30 June 2020', '20 July 2020', '7 August 2020', '18 August 2020', '30 August 2020', '3 September 2020', '6 October 2020', '18 October 2020', '24 October 2020', '5 November 2020', '16 November 2020', '21 November 2020', '25 November 2020', '6 December 2020', '13 December 2020', '19 December 2020', '8 January 2021', '20 January 2021', '24 January 2021', '4 February 2021', '16 February 2021', '4 March 2021', '11 March 2021', '14 March 2021', '24 March 2021', '7 April 2021', '23 April 2021', '29 April 2021', '4 May 2021', '9 May 2021', '15 May 2021', '26 May 2021', '3 June 2021', '6 June 2021'], 'Time': ['18:45', '15:43', '07:44', '00:35', '15:10', '16:00', '22:41', '22:06', '19:25', '15:15', '08:00', '05:00', '05:52', '09:47', '23:03', '03:50', '20:10', '23:03', '14:21', '01:29', '18:42', '23:35', '20:43', '05:21', '21:39', '14:29', '04:45', '05:26', '17:54', '14:39', '06:00', '22:27', '11:15', '23:21', '21:07', '19:10', '20:25', '23:38', '16:31', '18:51', '14:00', '12:37', '22:53:00', '19:34', '15:36', '01:27', '01:00', '21:25', '14:17', '05:33', '14:14', '20:30', '22:51', '20:14', '19:47', '04:45', '09:42', '05:50', '11:39', '05:18', '04:45', '02:22', '20:46', '18:34:05', '18:16', '13:51', '15:31', '01:45', '07:49', '06:48', '02:30', '14:17', '22:01', '23:23', '14:56', '17:29', '00:10', '02:19:21', '15:30', '14:07', '15:05', '04:50', '12:16', '19:30', '19:22', '01:25', '09:21', '20:10:46', '21:30', '05:12', '14:31', '23:18', '12:46:14', '11:29:34', '12:25:57', '15:31:34', '23:24:23', '00:27', '17:17:08', '02:13', '16:17:08', '17:30:00', '14:00:00', '02:15', '13:02', '15:00', '06:19', '03:59:37', '08:24', '08:13:29', '10:01', '08:28', '16:34', '9:49', '03:44', '19:01', '06:42', '22:56', '18:59', '17:29', '04:26']}\n"
     ]
    }
   ],
   "source": [
    "# Ensure launch_dict is properly initialized with empty lists for each column\n",
    "launch_dict = {\n",
    "    'Flight No.': [],\n",
    "    'Launch site': [],\n",
    "    'Payload': [],\n",
    "    'Payload mass': [],\n",
    "    'Orbit': [],\n",
    "    'Customer': [],\n",
    "    'Launch outcome': [],\n",
    "    'Version Booster': [],\n",
    "    'Booster landing': [],\n",
    "    'Date': [],\n",
    "    'Time': []\n",
    "}\n",
    "\n",
    "extracted_row = 0\n",
    "\n",
    "# Extract each table\n",
    "for table_number, table in enumerate(soup.find_all('table', \"wikitable plainrowheaders collapsible\")):\n",
    "    # Get table row\n",
    "    for rows in table.find_all(\"tr\"):\n",
    "        # Check to see if first table heading is a number corresponding to launch number\n",
    "        if rows.th:\n",
    "            if rows.th.string:\n",
    "                flight_number = rows.th.string.strip()\n",
    "                flag = flight_number.isdigit()\n",
    "        else:\n",
    "            flag = False\n",
    "\n",
    "        # Get table element\n",
    "        row = rows.find_all('td')\n",
    "\n",
    "        # If it is a number, save cells in a dictionary\n",
    "        if flag:\n",
    "            extracted_row += 1\n",
    "\n",
    "            # Append the flight_number into launch_dict with key `Flight No.`\n",
    "            launch_dict['Flight No.'].append(flight_number)\n",
    "\n",
    "            # Date and Time values\n",
    "            datatimelist = date_time(row[0])\n",
    "            launch_dict['Date'].append(datatimelist[0].strip(','))\n",
    "            launch_dict['Time'].append(datatimelist[1].strip())\n",
    "\n",
    "            # Append other values to the dictionary\n",
    "            launch_dict['Launch site'].append(row[1].text.strip())\n",
    "            launch_dict['Payload'].append(row[2].text.strip())\n",
    "            launch_dict['Payload mass'].append(row[3].text.strip())\n",
    "            launch_dict['Orbit'].append(row[4].text.strip())\n",
    "            launch_dict['Customer'].append(row[5].text.strip())\n",
    "            launch_dict['Launch outcome'].append(row[6].text.strip())\n",
    "            launch_dict['Version Booster'].append(row[7].text.strip())\n",
    "            launch_dict['Booster landing'].append(row[8].text.strip())\n",
    "\n",
    "# Print launch_dict to verify its correctness\n",
    "print(launch_dict)"
   ]
  },
  {
   "cell_type": "code",
   "execution_count": 17,
   "id": "2de67f83-4655-4165-81f8-7666b3f82ac3",
   "metadata": {
    "tags": []
   },
   "outputs": [],
   "source": [
    "df= pd.DataFrame({ key:pd.Series(value) for key, value in launch_dict.items() })"
   ]
  },
  {
   "cell_type": "markdown",
   "id": "d8d564df-6508-4107-8cf9-58f5a63eb1a5",
   "metadata": {},
   "source": [
    "Question2:Using the API, how many Falcon 9 launches are there after we remove Falcon 1 launches?"
   ]
  },
  {
   "cell_type": "code",
   "execution_count": 10,
   "id": "040c3ca6-2084-427e-9572-3541d19f4e54",
   "metadata": {
    "tags": []
   },
   "outputs": [
    {
     "name": "stdout",
     "output_type": "stream",
     "text": [
      "Number of Falcon 9 launches: 2\n"
     ]
    }
   ],
   "source": [
    "import pandas as pd\n",
    "#Assume df is a data frame containing a 'BoosterVersion' field\n",
    "# Filter out data whose 'BoosterVersion' is 'Falcon 9'\n",
    "# 假設 df 是包含 'BoosterVersion' 欄位的資料框\n",
    "# 過濾出 'BoosterVersion' 為 'Falcon 9' 的資料\n",
    "data_falcon9 = df[df['BoosterVersion'] == 'Falcon 9']\n",
    "# Calculate the number of launches of 'Falcon 9'\n",
    "# 計算 'Falcon 9' 的發射次數\n",
    "falcon9_launch_count = data_falcon9.shape[0]\n",
    "\n",
    "print(f\"Number of Falcon 9 launches: {falcon9_launch_count}\")"
   ]
  },
  {
   "cell_type": "markdown",
   "id": "0d874d6c-9e7a-4d96-931c-6d5993b3c1cf",
   "metadata": {},
   "source": [
    "Question3"
   ]
  },
  {
   "cell_type": "code",
   "execution_count": 6,
   "id": "b70da75d-539c-4247-a22c-7b678b526463",
   "metadata": {
    "tags": []
   },
   "outputs": [
    {
     "name": "stdout",
     "output_type": "stream",
     "text": [
      "API request successful!\n",
      "Index(['core_core', 'core_flight', 'core_gridfins', 'core_legs', 'core_reused',\n",
      "       'core_landing_attempt', 'core_landing_success', 'core_landing_type',\n",
      "       'core_landpad', 'name'],\n",
      "      dtype='object')\n",
      "No column related to landing pads found in the DataFrame.\n"
     ]
    }
   ],
   "source": [
    "import requests\n",
    "import pandas as pd\n",
    "\n",
    "# Define SpaceX API URL for launches\n",
    "api_url = \"https://api.spacexdata.com/v4/launches\"\n",
    "\n",
    "# Send GET request to fetch all launch data\n",
    "response = requests.get(api_url)\n",
    "\n",
    "# Ensure the request was successful\n",
    "if response.status_code == 200:\n",
    "    print(\"API request successful!\")\n",
    "    launches = response.json()  # Parse the response as JSON\n",
    "\n",
    "    # Normalize JSON data into a DataFrame\n",
    "    launch_df = pd.json_normalize(launches, 'cores', errors='ignore', record_prefix='core_', meta=['name'])\n",
    "\n",
    "    # Print the DataFrame columns to inspect them\n",
    "    print(launch_df.columns)\n",
    "\n",
    "    # Identify the correct column related to landing pads\n",
    "    landing_pad_col = [col for col in launch_df.columns if 'landing_pad' in col]\n",
    "    if landing_pad_col:\n",
    "        # Calculate the number of missing values in the landing pad column\n",
    "        missing_landing_pad_count = launch_df[landing_pad_col[0]].isnull().sum()\n",
    "        print(f\"Number of missing values in the {landing_pad_col[0]} column: {missing_landing_pad_count}\")\n",
    "    else:\n",
    "        print(\"No column related to landing pads found in the DataFrame.\")\n",
    "else:\n",
    "    print(\"API request failed, status code:\", response.status_code)"
   ]
  },
  {
   "cell_type": "code",
   "execution_count": null,
   "id": "424d48d3-caa4-4529-a299-6d822012f054",
   "metadata": {},
   "outputs": [],
   "source": []
  }
 ],
 "metadata": {
  "kernelspec": {
   "display_name": "Python",
   "language": "python",
   "name": "conda-env-python-py"
  },
  "language_info": {
   "codemirror_mode": {
    "name": "ipython",
    "version": 3
   },
   "file_extension": ".py",
   "mimetype": "text/x-python",
   "name": "python",
   "nbconvert_exporter": "python",
   "pygments_lexer": "ipython3",
   "version": "3.7.12"
  }
 },
 "nbformat": 4,
 "nbformat_minor": 5
}
